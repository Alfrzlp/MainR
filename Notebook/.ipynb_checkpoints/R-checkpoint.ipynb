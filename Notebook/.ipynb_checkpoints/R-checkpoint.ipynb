{
 "cells": [
  {
   "cell_type": "code",
   "execution_count": 1,
   "metadata": {},
   "outputs": [],
   "source": [
    "library(rtweet)"
   ]
  },
  {
   "cell_type": "code",
   "execution_count": 11,
   "metadata": {},
   "outputs": [],
   "source": [
    "token = create_token(consumer_key = \"Lbl3URg7B7MuVWe8oEigDDDR0\",\n",
    "             consumer_secret = \"qVmj3c2IU6hU4BK92IAYI3aXtYHzHcypSN0ejV9pIsyIMQrLay\",\n",
    "             access_token = \"1282149965985280000-nKUchRGUKIpKWPIpmeEWOY6nJ2qCqh\",\n",
    "             access_secret = \"ZCJJ68egtAWyiNJsV6XVBcV0ULgzY4sj4Mt3DfjZWox88\")"
   ]
  },
  {
   "cell_type": "code",
   "execution_count": 12,
   "metadata": {},
   "outputs": [],
   "source": [
    "indo = get_trends(\"indonesia\")"
   ]
  },
  {
   "cell_type": "code",
   "execution_count": 2,
   "metadata": {},
   "outputs": [
    {
     "name": "stdout",
     "output_type": "stream",
     "text": [
      "[1] \"hello world\"\n"
     ]
    }
   ],
   "source": [
    "print(\"hello world\")"
   ]
  },
  {
   "cell_type": "code",
   "execution_count": null,
   "metadata": {},
   "outputs": [],
   "source": []
  }
 ],
 "metadata": {
  "kernelspec": {
   "display_name": "R",
   "language": "R",
   "name": "ir"
  },
  "language_info": {
   "codemirror_mode": "r",
   "file_extension": ".r",
   "mimetype": "text/x-r-source",
   "name": "R",
   "pygments_lexer": "r",
   "version": "4.0.2"
  }
 },
 "nbformat": 4,
 "nbformat_minor": 4
}
