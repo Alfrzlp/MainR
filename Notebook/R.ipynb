{
 "cells": [
  {
   "cell_type": "code",
   "execution_count": 1,
   "metadata": {
    "collapsed": true,
    "jupyter": {
     "outputs_hidden": true
    }
   },
   "outputs": [
    {
     "name": "stderr",
     "output_type": "stream",
     "text": [
      "-- \u001b[1mAttaching packages\u001b[22m ------------------------------------------------------------------------------- tidyverse 1.3.0 --\n",
      "\n",
      "\u001b[32mv\u001b[39m \u001b[34mggplot2\u001b[39m 3.3.2     \u001b[32mv\u001b[39m \u001b[34mpurrr  \u001b[39m 0.3.4\n",
      "\u001b[32mv\u001b[39m \u001b[34mtibble \u001b[39m 3.0.6     \u001b[32mv\u001b[39m \u001b[34mdplyr  \u001b[39m 1.0.2\n",
      "\u001b[32mv\u001b[39m \u001b[34mtidyr  \u001b[39m 1.1.2     \u001b[32mv\u001b[39m \u001b[34mstringr\u001b[39m 1.4.0\n",
      "\u001b[32mv\u001b[39m \u001b[34mreadr  \u001b[39m 1.4.0     \u001b[32mv\u001b[39m \u001b[34mforcats\u001b[39m 0.5.0\n",
      "\n",
      "Warning message:\n",
      "\"package 'tibble' was built under R version 4.0.3\"\n",
      "Warning message:\n",
      "\"package 'tidyr' was built under R version 4.0.3\"\n",
      "Warning message:\n",
      "\"package 'readr' was built under R version 4.0.3\"\n",
      "Warning message:\n",
      "\"package 'dplyr' was built under R version 4.0.3\"\n",
      "-- \u001b[1mConflicts\u001b[22m ---------------------------------------------------------------------------------- tidyverse_conflicts() --\n",
      "\u001b[31mx\u001b[39m \u001b[34mdplyr\u001b[39m::\u001b[32mfilter()\u001b[39m masks \u001b[34mstats\u001b[39m::filter()\n",
      "\u001b[31mx\u001b[39m \u001b[34mdplyr\u001b[39m::\u001b[32mlag()\u001b[39m    masks \u001b[34mstats\u001b[39m::lag()\n",
      "\n"
     ]
    }
   ],
   "source": [
    "library(tidyverse)"
   ]
  },
  {
   "cell_type": "code",
   "execution_count": 8,
   "metadata": {},
   "outputs": [
    {
     "data": {
      "text/html": [
       "<table>\n",
       "<caption>A data.frame: 11 × 2</caption>\n",
       "<thead>\n",
       "\t<tr><th scope=col>x</th><th scope=col>group</th></tr>\n",
       "\t<tr><th scope=col>&lt;int&gt;</th><th scope=col>&lt;fct&gt;</th></tr>\n",
       "</thead>\n",
       "<tbody>\n",
       "\t<tr><td> 0</td><td>1</td></tr>\n",
       "\t<tr><td> 1</td><td>1</td></tr>\n",
       "\t<tr><td> 2</td><td>2</td></tr>\n",
       "\t<tr><td> 3</td><td>2</td></tr>\n",
       "\t<tr><td> 4</td><td>3</td></tr>\n",
       "\t<tr><td> 5</td><td>4</td></tr>\n",
       "\t<tr><td> 6</td><td>4</td></tr>\n",
       "\t<tr><td> 7</td><td>4</td></tr>\n",
       "\t<tr><td> 8</td><td>4</td></tr>\n",
       "\t<tr><td> 9</td><td>5</td></tr>\n",
       "\t<tr><td>10</td><td>5</td></tr>\n",
       "</tbody>\n",
       "</table>\n"
      ],
      "text/latex": [
       "A data.frame: 11 × 2\n",
       "\\begin{tabular}{ll}\n",
       " x & group\\\\\n",
       " <int> & <fct>\\\\\n",
       "\\hline\n",
       "\t  0 & 1\\\\\n",
       "\t  1 & 1\\\\\n",
       "\t  2 & 2\\\\\n",
       "\t  3 & 2\\\\\n",
       "\t  4 & 3\\\\\n",
       "\t  5 & 4\\\\\n",
       "\t  6 & 4\\\\\n",
       "\t  7 & 4\\\\\n",
       "\t  8 & 4\\\\\n",
       "\t  9 & 5\\\\\n",
       "\t 10 & 5\\\\\n",
       "\\end{tabular}\n"
      ],
      "text/markdown": [
       "\n",
       "A data.frame: 11 × 2\n",
       "\n",
       "| x &lt;int&gt; | group &lt;fct&gt; |\n",
       "|---|---|\n",
       "|  0 | 1 |\n",
       "|  1 | 1 |\n",
       "|  2 | 2 |\n",
       "|  3 | 2 |\n",
       "|  4 | 3 |\n",
       "|  5 | 4 |\n",
       "|  6 | 4 |\n",
       "|  7 | 4 |\n",
       "|  8 | 4 |\n",
       "|  9 | 5 |\n",
       "| 10 | 5 |\n",
       "\n"
      ],
      "text/plain": [
       "   x  group\n",
       "1   0 1    \n",
       "2   1 1    \n",
       "3   2 2    \n",
       "4   3 2    \n",
       "5   4 3    \n",
       "6   5 4    \n",
       "7   6 4    \n",
       "8   7 4    \n",
       "9   8 4    \n",
       "10  9 5    \n",
       "11 10 5    "
      ]
     },
     "metadata": {},
     "output_type": "display_data"
    }
   ],
   "source": [
    "data.frame(x = 0:10) %>%\n",
    "    mutate(group = cut(x, c(-1,1,3,4,8,11), c(1,2,3,4,5)))"
   ]
  }
 ],
 "metadata": {
  "kernelspec": {
   "display_name": "R",
   "language": "R",
   "name": "ir"
  },
  "language_info": {
   "codemirror_mode": "r",
   "file_extension": ".r",
   "mimetype": "text/x-r-source",
   "name": "R",
   "pygments_lexer": "r",
   "version": "4.0.2"
  }
 },
 "nbformat": 4,
 "nbformat_minor": 4
}
