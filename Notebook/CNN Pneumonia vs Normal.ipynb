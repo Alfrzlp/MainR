{
 "cells": [
  {
   "cell_type": "code",
   "execution_count": 1,
   "metadata": {
    "collapsed": true
   },
   "outputs": [
    {
     "name": "stderr",
     "output_type": "stream",
     "text": [
      "Warning message:\n",
      "\"package 'keras' was built under R version 4.0.3\"\n",
      "Warning message:\n",
      "\"package 'doSNOW' was built under R version 4.0.3\"\n",
      "Loading required package: foreach\n",
      "\n",
      "Warning message:\n",
      "\"package 'foreach' was built under R version 4.0.3\"\n",
      "Loading required package: iterators\n",
      "\n",
      "Warning message:\n",
      "\"package 'iterators' was built under R version 4.0.3\"\n",
      "Loading required package: snow\n",
      "\n",
      "Warning message:\n",
      "\"package 'snow' was built under R version 4.0.3\"\n",
      "-- \u001b[1mAttaching packages\u001b[22m ------------------------------------------------------------------------------- tidyverse 1.3.0 --\n",
      "\n",
      "\u001b[32mv\u001b[39m \u001b[34mggplot2\u001b[39m 3.3.2     \u001b[32mv\u001b[39m \u001b[34mpurrr  \u001b[39m 0.3.4\n",
      "\u001b[32mv\u001b[39m \u001b[34mtibble \u001b[39m 3.0.4     \u001b[32mv\u001b[39m \u001b[34mdplyr  \u001b[39m 1.0.2\n",
      "\u001b[32mv\u001b[39m \u001b[34mtidyr  \u001b[39m 1.1.2     \u001b[32mv\u001b[39m \u001b[34mstringr\u001b[39m 1.4.0\n",
      "\u001b[32mv\u001b[39m \u001b[34mreadr  \u001b[39m 1.4.0     \u001b[32mv\u001b[39m \u001b[34mforcats\u001b[39m 0.5.0\n",
      "\n",
      "Warning message:\n",
      "\"package 'tibble' was built under R version 4.0.3\"\n",
      "Warning message:\n",
      "\"package 'tidyr' was built under R version 4.0.3\"\n",
      "Warning message:\n",
      "\"package 'readr' was built under R version 4.0.3\"\n",
      "Warning message:\n",
      "\"package 'dplyr' was built under R version 4.0.3\"\n",
      "-- \u001b[1mConflicts\u001b[22m ---------------------------------------------------------------------------------- tidyverse_conflicts() --\n",
      "\u001b[31mx\u001b[39m \u001b[34mpurrr\u001b[39m::\u001b[32maccumulate()\u001b[39m masks \u001b[34mforeach\u001b[39m::accumulate()\n",
      "\u001b[31mx\u001b[39m \u001b[34mdplyr\u001b[39m::\u001b[32mfilter()\u001b[39m     masks \u001b[34mstats\u001b[39m::filter()\n",
      "\u001b[31mx\u001b[39m \u001b[34mdplyr\u001b[39m::\u001b[32mlag()\u001b[39m        masks \u001b[34mstats\u001b[39m::lag()\n",
      "\u001b[31mx\u001b[39m \u001b[34mpurrr\u001b[39m::\u001b[32mwhen()\u001b[39m       masks \u001b[34mforeach\u001b[39m::when()\n",
      "\n"
     ]
    }
   ],
   "source": [
    "library(keras)\n",
    "library(doSNOW)\n",
    "library(tidyverse)"
   ]
  },
  {
   "cell_type": "markdown",
   "metadata": {},
   "source": [
    "## Fungsi Untuk Membaca Gambar "
   ]
  },
  {
   "cell_type": "code",
   "execution_count": 2,
   "metadata": {},
   "outputs": [],
   "source": [
    "image_from_directory <- function(alamat, w, h, grayscale = T, ...){\n",
    "  dir = list.files(alamat, full.names = T)\n",
    "  allloc = c()\n",
    "  \n",
    "  # mendapatkan semua lokasi gambar\n",
    "  if(str_detect(dir[1], \"(png|jpg|jpeg)\")) allloc = dir\n",
    "  else{\n",
    "    for(i in 1:length(dir)){\n",
    "      allloc = c(allloc, list.files(dir[i], full.names = T, recursive = T))\n",
    "    }\n",
    "  }\n",
    "  \n",
    "  # agar tidak over gunakan core - 1\n",
    "  cores = parallel::detectCores()\n",
    "  cl <- makeSOCKcluster(cores-1)\n",
    "  registerDoSNOW(cl)\n",
    "  \n",
    "  # iterasi secara pararel\n",
    "  hasil <- \n",
    "    foreach::foreach(i = 1:length(allloc), .packages = c(\"keras\", \"stringr\"), ...) %dopar% {\n",
    "      label = str_split(allloc[i], pattern = \"/\")[[1]]\n",
    "      label = label[length(label)-1]\n",
    "      \n",
    "      img = image_load(allloc[i], target_size = c(w, h), grayscale = grayscale)\n",
    "      img = image_to_array(img)\n",
    "      img = array_reshape(img, c(1, dim(img)))\n",
    "      img = img/255\n",
    "      \n",
    "      list(image = img, lab = label)\n",
    "    }\n",
    "  stopCluster(cl)\n",
    "  # membuat fungsi abind1\n",
    "  abind1 = function(...) abind::abind(..., along = 1)\n",
    "  hasil <- list(image = do.call(abind1, map(hasil, \"image\")),\n",
    "                label = do.call(c, map(hasil, \"lab\")))\n",
    "  return(hasil)\n",
    "}"
   ]
  },
  {
   "cell_type": "code",
   "execution_count": 3,
   "metadata": {},
   "outputs": [],
   "source": [
    "w = 64\n",
    "h = 64\n",
    "\n",
    "path = \"D:/Datasets/CNN/Pneumonia vs Normal/train\"\n",
    "data = image_from_directory(path, w = w, h = h, grayscale = T)\n",
    "x_train = data[[1]] \n",
    "y_train = data[[2]] \n",
    "y_train = factor(y_train, labels = 0:1)\n",
    "\n",
    "path2 =\"D:/Datasets/CNN/Pneumonia vs Normal/test\"\n",
    "data2 = image_from_directory(path2, w = w, h = h, grayscale = T)\n",
    "x_test = data2[[1]] \n",
    "y_test = data2[[2]] \n",
    "y_test = factor(y_test, labels = 0:1)"
   ]
  },
  {
   "cell_type": "code",
   "execution_count": 4,
   "metadata": {},
   "outputs": [
    {
     "data": {
      "text/html": [
       "<style>\n",
       ".list-inline {list-style: none; margin:0; padding: 0}\n",
       ".list-inline>li {display: inline-block}\n",
       ".list-inline>li:not(:last-child)::after {content: \"\\00b7\"; padding: 0 .5ex}\n",
       "</style>\n",
       "<ol class=list-inline><li>5216</li><li>64</li><li>64</li><li>1</li></ol>\n"
      ],
      "text/latex": [
       "\\begin{enumerate*}\n",
       "\\item 5216\n",
       "\\item 64\n",
       "\\item 64\n",
       "\\item 1\n",
       "\\end{enumerate*}\n"
      ],
      "text/markdown": [
       "1. 5216\n",
       "2. 64\n",
       "3. 64\n",
       "4. 1\n",
       "\n",
       "\n"
      ],
      "text/plain": [
       "[1] 5216   64   64    1"
      ]
     },
     "metadata": {},
     "output_type": "display_data"
    },
    {
     "data": {
      "text/html": [
       "<style>\n",
       ".list-inline {list-style: none; margin:0; padding: 0}\n",
       ".list-inline>li {display: inline-block}\n",
       ".list-inline>li:not(:last-child)::after {content: \"\\00b7\"; padding: 0 .5ex}\n",
       "</style>\n",
       "<ol class=list-inline><li>624</li><li>64</li><li>64</li><li>1</li></ol>\n"
      ],
      "text/latex": [
       "\\begin{enumerate*}\n",
       "\\item 624\n",
       "\\item 64\n",
       "\\item 64\n",
       "\\item 1\n",
       "\\end{enumerate*}\n"
      ],
      "text/markdown": [
       "1. 624\n",
       "2. 64\n",
       "3. 64\n",
       "4. 1\n",
       "\n",
       "\n"
      ],
      "text/plain": [
       "[1] 624  64  64   1"
      ]
     },
     "metadata": {},
     "output_type": "display_data"
    },
    {
     "data": {
      "text/html": [
       "<style>\n",
       ".list-inline {list-style: none; margin:0; padding: 0}\n",
       ".list-inline>li {display: inline-block}\n",
       ".list-inline>li:not(:last-child)::after {content: \"\\00b7\"; padding: 0 .5ex}\n",
       "</style>\n",
       "<ol class=list-inline><li>5216</li><li>2</li></ol>\n"
      ],
      "text/latex": [
       "\\begin{enumerate*}\n",
       "\\item 5216\n",
       "\\item 2\n",
       "\\end{enumerate*}\n"
      ],
      "text/markdown": [
       "1. 5216\n",
       "2. 2\n",
       "\n",
       "\n"
      ],
      "text/plain": [
       "[1] 5216    2"
      ]
     },
     "metadata": {},
     "output_type": "display_data"
    },
    {
     "data": {
      "text/html": [
       "<style>\n",
       ".list-inline {list-style: none; margin:0; padding: 0}\n",
       ".list-inline>li {display: inline-block}\n",
       ".list-inline>li:not(:last-child)::after {content: \"\\00b7\"; padding: 0 .5ex}\n",
       "</style>\n",
       "<ol class=list-inline><li>624</li><li>2</li></ol>\n"
      ],
      "text/latex": [
       "\\begin{enumerate*}\n",
       "\\item 624\n",
       "\\item 2\n",
       "\\end{enumerate*}\n"
      ],
      "text/markdown": [
       "1. 624\n",
       "2. 2\n",
       "\n",
       "\n"
      ],
      "text/plain": [
       "[1] 624   2"
      ]
     },
     "metadata": {},
     "output_type": "display_data"
    }
   ],
   "source": [
    "dim(x_train)\n",
    "dim(x_test)\n",
    "\n",
    "# ubah dimensi label\n",
    "y_train = to_categorical(y_train)\n",
    "y_test = to_categorical(y_test)\n",
    "\n",
    "dim(y_train)\n",
    "dim(y_test)"
   ]
  },
  {
   "cell_type": "code",
   "execution_count": 28,
   "metadata": {},
   "outputs": [
    {
     "name": "stdout",
     "output_type": "stream",
     "text": [
      "Model: \"sequential_9\"\n",
      "________________________________________________________________________________\n",
      "Layer (type)                        Output Shape                    Param #     \n",
      "================================================================================\n",
      "conv2d_37 (Conv2D)                  (None, 62, 62, 32)              320         \n",
      "________________________________________________________________________________\n",
      "max_pooling2d_29 (MaxPooling2D)     (None, 31, 31, 32)              0           \n",
      "________________________________________________________________________________\n",
      "dropout_39 (Dropout)                (None, 31, 31, 32)              0           \n",
      "________________________________________________________________________________\n",
      "conv2d_36 (Conv2D)                  (None, 29, 29, 64)              18496       \n",
      "________________________________________________________________________________\n",
      "max_pooling2d_28 (MaxPooling2D)     (None, 14, 14, 64)              0           \n",
      "________________________________________________________________________________\n",
      "dropout_38 (Dropout)                (None, 14, 14, 64)              0           \n",
      "________________________________________________________________________________\n",
      "conv2d_35 (Conv2D)                  (None, 12, 12, 128)             73856       \n",
      "________________________________________________________________________________\n",
      "max_pooling2d_27 (MaxPooling2D)     (None, 6, 6, 128)               0           \n",
      "________________________________________________________________________________\n",
      "dropout_37 (Dropout)                (None, 6, 6, 128)               0           \n",
      "________________________________________________________________________________\n",
      "flatten_9 (Flatten)                 (None, 4608)                    0           \n",
      "________________________________________________________________________________\n",
      "dense_19 (Dense)                    (None, 1024)                    4719616     \n",
      "________________________________________________________________________________\n",
      "dropout_36 (Dropout)                (None, 1024)                    0           \n",
      "________________________________________________________________________________\n",
      "dense_18 (Dense)                    (None, 2)                       2050        \n",
      "================================================================================\n",
      "Total params: 4,814,338\n",
      "Trainable params: 4,814,338\n",
      "Non-trainable params: 0\n",
      "________________________________________________________________________________\n"
     ]
    }
   ],
   "source": [
    "model <- keras_model_sequential() %>% \n",
    "  layer_conv_2d(filters = 32, kernel_size = 3,\n",
    "                padding = \"valid\", input_shape = c(w, h, 1), activation = \"relu\") %>% \n",
    "  layer_max_pooling_2d(pool_size = 2) %>% \n",
    "  layer_dropout(0.2) %>% \n",
    "  \n",
    "  layer_conv_2d(filters = 64, kernel_size = 3,\n",
    "                padding = \"valid\", activation = \"relu\") %>% \n",
    "  layer_max_pooling_2d(pool_size = 2) %>%\n",
    "  layer_dropout(0.2) %>% \n",
    "  \n",
    "  layer_conv_2d(filters = 128, kernel_size = 3,\n",
    "                padding = \"valid\", activation = \"relu\") %>% \n",
    "  layer_max_pooling_2d(pool_size = 2) %>%\n",
    "  layer_dropout(0.2) %>% \n",
    "  \n",
    "  layer_flatten() %>%\n",
    "  layer_dense(1024, activation = \"relu\") %>%\n",
    "  layer_dropout(0.5) %>% \n",
    "  \n",
    "  layer_dense(2, activation = \"softmax\")\n",
    "\n",
    "summary(model)"
   ]
  },
  {
   "cell_type": "code",
   "execution_count": 30,
   "metadata": {},
   "outputs": [],
   "source": [
    "# compile\n",
    "model %>% compile(\n",
    "  loss = \"categorical_crossentropy\",\n",
    "  optimizer = optimizer_adam(),\n",
    "  metrics = \"accuracy\"\n",
    ")"
   ]
  },
  {
   "cell_type": "code",
   "execution_count": null,
   "metadata": {},
   "outputs": [],
   "source": [
    "# fit\n",
    "history <- model %>%\n",
    "  fit(x_train,\n",
    "      y_train,\n",
    "      batch_size = 100,\n",
    "      epoch = 20\n",
    "  )\n",
    "plot(history)"
   ]
  },
  {
   "cell_type": "code",
   "execution_count": null,
   "metadata": {},
   "outputs": [],
   "source": [
    "history\n",
    "# evaluate\n",
    "model %>% evaluate(x_test, y_test) "
   ]
  },
  {
   "cell_type": "code",
   "execution_count": 29,
   "metadata": {},
   "outputs": [],
   "source": [
    "#save_model_hdf5(model, \"D:/Datasets/Model/Pneumonia.h5\")"
   ]
  }
 ],
 "metadata": {
  "kernelspec": {
   "display_name": "R",
   "language": "R",
   "name": "ir"
  },
  "language_info": {
   "codemirror_mode": "r",
   "file_extension": ".r",
   "mimetype": "text/x-r-source",
   "name": "R",
   "pygments_lexer": "r",
   "version": "4.0.2"
  }
 },
 "nbformat": 4,
 "nbformat_minor": 4
}
